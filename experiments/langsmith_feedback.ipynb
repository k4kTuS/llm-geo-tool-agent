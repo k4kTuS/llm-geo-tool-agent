{
 "cells": [
  {
   "cell_type": "code",
   "execution_count": null,
   "metadata": {},
   "outputs": [],
   "source": [
    "import langsmith\n",
    "from dotenv import load_dotenv\n",
    "import numpy as np\n",
    "\n",
    "load_dotenv()\n",
    "client = langsmith.Client()"
   ]
  },
  {
   "cell_type": "code",
   "execution_count": 2,
   "metadata": {},
   "outputs": [],
   "source": [
    "# Query all runs from \"geochat-local\" project\n",
    "it = client.list_runs(\n",
    "    project_name=\"geochat-local\",\n",
    "    is_root=True,\n",
    ")\n",
    "runs = [run for run in it if run.feedback_stats]"
   ]
  },
  {
   "cell_type": "code",
   "execution_count": 3,
   "metadata": {},
   "outputs": [],
   "source": [
    "# Query feedbacks for runs that have feedback (not using feedback_stats because we need raw feedback)\n",
    "feedbacks = {}\n",
    "for run in runs:\n",
    "    fdbs = client.list_feedback(run_ids=[run.id])\n",
    "    feedbacks[run.id] = [fb for fb in fdbs]"
   ]
  },
  {
   "cell_type": "code",
   "execution_count": 6,
   "metadata": {},
   "outputs": [
    {
     "name": "stdout",
     "output_type": "stream",
     "text": [
      "--------------------------------------------------\n",
      "Run id: 9f6367cb-ea26-46dd-9045-b28db0bfcf92 AB: 0 Stars: 1\n",
      "Stars for solo response: 4.0\n",
      "--------------------------------------------------\n",
      "Run id: 71944ae3-38bf-4bf5-812e-1c428adc7652 AB: 1 Stars: 0\n",
      "Context msg position: Option A\n",
      "Selected msg position: Option A\n",
      "--------------------------------------------------\n",
      "Run id: bd4464f1-d03b-4d65-bf12-30d59f818811 AB: 1 Stars: 0\n",
      "Context msg position: Option B\n",
      "Selected msg position: Option B\n",
      "--------------------------------------------------\n",
      "Run id: 9b9a4cef-a856-46dc-b225-a71fa6a1f6cf AB: 1 Stars: 0\n",
      "Context msg position: Option A\n",
      "Selected msg position: Option A\n",
      "--------------------------------------------------\n",
      "Run id: 3bbb0709-40ad-4ae8-96ea-8fc92cba4b0f AB: 1 Stars: 0\n",
      "Context msg position: Option A\n",
      "Selected msg position: Option A\n",
      "--------------------------------------------------\n",
      "Run id: 1fffee41-484c-4981-8607-6139b817ba15 AB: 1 Stars: 0\n",
      "Context msg position: Option B\n",
      "Selected msg position: Option B\n",
      "--------------------------------------------------\n",
      "Run id: 0edff9ec-b630-4383-b765-4ecfbf919de4 AB: 1 Stars: 2\n",
      "Context msg position: Option A\n",
      "Selected msg position: Option A\n",
      "Stars for alternative response: 2.0\n",
      "Stars for context response: 2.0\n",
      "--------------------------------------------------\n",
      "Run id: 50992247-9403-4bcc-a105-b668ba9f3849 AB: 0 Stars: 1\n",
      "Stars for solo response: 2.0\n",
      "--------------------------------------------------\n",
      "Run id: 4452e1f4-9876-49c2-a5dc-7d527252a8f8 AB: 0 Stars: 1\n",
      "Stars for solo response: 1.0\n",
      "--------------------------------------------------\n",
      "Run id: d6f9a1eb-c6c6-46a4-9a96-ae4f6b4d4876 AB: 1 Stars: 1\n",
      "Context msg position: Option A\n",
      "Selected msg position: Option A\n",
      "Stars for context response: 3.0\n",
      "--------------------------------------------------\n",
      "Run id: e74611c4-3068-412d-b3b1-6f6ac4d4687b AB: 1 Stars: 0\n",
      "Context msg position: Option B\n",
      "Selected msg position: Option A\n",
      "--------------------------------------------------\n",
      "Run id: 194b8a61-20c0-4476-89f5-177474a41cae AB: 1 Stars: 0\n",
      "Context msg position: Option B\n",
      "Selected msg position: Option B\n",
      "--------------------------------------------------\n",
      "Run id: 3ade9537-d720-4a42-8f6d-97ed588cfc68 AB: 1 Stars: 0\n",
      "Context msg position: Option B\n",
      "Selected msg position: Option A\n",
      "--------------------------------------------------\n",
      "Run id: 6ee3c228-224f-4835-baf0-d2a37fc6bbb1 AB: 1 Stars: 0\n",
      "Context msg position: Option A\n",
      "Selected msg position: Option A\n",
      "--------------------------------------------------\n",
      "Run id: 61bc881a-a3f0-4c99-8c7a-76e849cb210a AB: 1 Stars: 0\n",
      "Context msg position: Option A\n",
      "Selected msg position: Option A\n",
      "--------------------------------------------------\n",
      "Run id: 7ba1933a-8302-4e13-9d4d-9b35ecc10a49 AB: 1 Stars: 0\n",
      "Context msg position: Option B\n",
      "Selected msg position: Option A\n",
      "--------------------------------------------------\n",
      "Run id: 2fc6a7a6-139f-40ee-8607-b15213e378a8 AB: 1 Stars: 2\n",
      "Context msg position: Option B\n",
      "Selected msg position: Option A\n",
      "Stars for context response: 0.0\n",
      "Stars for alternative response: 4.0\n"
     ]
    }
   ],
   "source": [
    "ab_total_count = 0\n",
    "ab_context_count = 0\n",
    "ab_stars_context = []\n",
    "ab_stars_alt = []\n",
    "ab_stars_solo = []\n",
    "\n",
    "for k,v in feedbacks.items():\n",
    "    print('-'*50)\n",
    "    ab_feedbacks = [fb for fb in v if fb.key == 'ab']\n",
    "    star_feedbacks = [fb for fb in v if fb.key == 'stars']\n",
    "    print(f\"Run id: {k} AB: {len(ab_feedbacks)} Stars: {len(star_feedbacks)}\")\n",
    "\n",
    "    if len(ab_feedbacks) > 0:\n",
    "        ab_feedback = ab_feedbacks[0]\n",
    "        context_msg_pos = ab_feedback.correction['context_response']\n",
    "        print(\"Context msg position:\", context_msg_pos)\n",
    "        ab_total_count = ab_total_count + len(ab_feedbacks)\n",
    "        ab_context_count = ab_context_count + len([fb for fb in ab_feedbacks if fb.value == fb.correction['context_response']])\n",
    "        print(\"Selected msg position:\", ab_feedback.value)\n",
    "\n",
    "        for fb in star_feedbacks:\n",
    "            score = fb.score\n",
    "            if fb.correction['original_position'] == context_msg_pos:\n",
    "                print(f\"Stars for context response: {score}\")\n",
    "                ab_stars_context.append(score)\n",
    "            else:\n",
    "                print(f\"Stars for alternative response: {score}\")\n",
    "                ab_stars_alt.append(score)\n",
    "    else:\n",
    "        for fb in star_feedbacks:\n",
    "            score = fb.score\n",
    "            print(f\"Stars for solo response: {score}\")\n",
    "            ab_stars_solo.append(score)"
   ]
  },
  {
   "cell_type": "code",
   "execution_count": 7,
   "metadata": {},
   "outputs": [
    {
     "name": "stdout",
     "output_type": "stream",
     "text": [
      "--------------------------------------------------\n",
      "Statistics:\n",
      "AB total count: 14\n",
      "AB context count: 10\n",
      "AB context stars: [2.0, 3.0, 0.0]\n",
      "AB context stars mean: 1.6666666666666667\n",
      "AB alternative stars: [2.0, 4.0]\n",
      "AB alternative stars mean: 3.0\n",
      "AB solo stars: [4.0, 2.0, 1.0]\n",
      "AB solo stars mean: 2.3333333333333335\n"
     ]
    }
   ],
   "source": [
    "print(\"-\"*50)\n",
    "print(\"Statistics:\")\n",
    "print(\"AB total count:\", ab_total_count)\n",
    "print(\"AB context count:\", ab_context_count)\n",
    "print(\"AB context stars:\", ab_stars_context)\n",
    "print(\"AB context stars mean:\", np.array(ab_stars_context).mean())\n",
    "print(\"AB alternative stars:\", ab_stars_alt)\n",
    "print(\"AB alternative stars mean:\", np.array(ab_stars_alt).mean())\n",
    "print(\"AB solo stars:\", ab_stars_solo)\n",
    "print(\"AB solo stars mean:\", np.array(ab_stars_solo).mean())"
   ]
  },
  {
   "cell_type": "code",
   "execution_count": null,
   "metadata": {},
   "outputs": [],
   "source": []
  }
 ],
 "metadata": {
  "kernelspec": {
   "display_name": "geochat-env",
   "language": "python",
   "name": "python3"
  },
  "language_info": {
   "codemirror_mode": {
    "name": "ipython",
    "version": 3
   },
   "file_extension": ".py",
   "mimetype": "text/x-python",
   "name": "python",
   "nbconvert_exporter": "python",
   "pygments_lexer": "ipython3",
   "version": "3.12.9"
  }
 },
 "nbformat": 4,
 "nbformat_minor": 2
}
